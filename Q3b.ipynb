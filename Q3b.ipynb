{
 "cells": [
  {
   "cell_type": "code",
   "execution_count": 15,
   "id": "3ab04478",
   "metadata": {},
   "outputs": [],
   "source": [
    "import numpy as np\n",
    "import matplotlib.pyplot as plt\n",
    "import pandas as pd\n",
    "from sklearn import datasets, svm, metrics"
   ]
  },
  {
   "cell_type": "code",
   "execution_count": 16,
   "id": "c09e8387",
   "metadata": {},
   "outputs": [],
   "source": [
    "from sklearn.datasets import load_digits\n",
    "digits = load_digits()\n",
    "train = digits.data\n",
    "targets = digits.target"
   ]
  },
  {
   "cell_type": "code",
   "execution_count": 17,
   "id": "0a9a8cf6",
   "metadata": {},
   "outputs": [],
   "source": [
    "from sklearn.cluster import AgglomerativeClustering\n",
    "\n",
    "ac = AgglomerativeClustering(n_clusters=10)\n",
    "pred = ac.fit(train)"
   ]
  },
  {
   "cell_type": "code",
   "execution_count": 18,
   "id": "6e54d139",
   "metadata": {},
   "outputs": [
    {
     "name": "stdout",
     "output_type": "stream",
     "text": [
      "[7 9 4 ... 4 1 4]\n"
     ]
    }
   ],
   "source": [
    "# print(targets)\n",
    "Labels = pred.labels_\n",
    "print(Labels)"
   ]
  },
  {
   "cell_type": "code",
   "execution_count": 19,
   "id": "1631d71c",
   "metadata": {},
   "outputs": [],
   "source": [
    "def clusterChecking(tar,lab):\n",
    "    new_lab=np.copy(lab)\n",
    "    for j in range(10):\n",
    "        temp=np.where(lab==j)\n",
    "        temp_array=tar[temp]\n",
    "        vals,counts = np.unique(temp_array, return_counts=True)\n",
    "       \n",
    "        index = np.argmax(counts)\n",
    "        m=vals[index]\n",
    "        new_lab[temp]=m\n",
    "    return new_lab  "
   ]
  },
  {
   "cell_type": "code",
   "execution_count": 20,
   "id": "60742e9d",
   "metadata": {},
   "outputs": [
    {
     "name": "stdout",
     "output_type": "stream",
     "text": [
      "[7 9 4 ... 4 1 4]\n",
      "[0 1 8 ... 8 3 8]\n"
     ]
    }
   ],
   "source": [
    "new = clusterChecking(targets, Labels)\n",
    "# print(targets)\n",
    "print(Labels)\n",
    "print(new)"
   ]
  },
  {
   "cell_type": "code",
   "execution_count": 21,
   "id": "69c99043",
   "metadata": {},
   "outputs": [
    {
     "name": "stdout",
     "output_type": "stream",
     "text": [
      "[[178   0   0   0   0   0   0   0   0   0]\n",
      " [  0 155  27   0   0   0   0   0   0   0]\n",
      " [  0   0 166   0   0   0   0   1  10   0]\n",
      " [  0   0   0 169   0   0   0   1  13   0]\n",
      " [  0   0   0   0 178   0   0   3   0   0]\n",
      " [  0   0   0   2   0 179   1   0   0   0]\n",
      " [  0   0   0   0   0   0 180   0   1   0]\n",
      " [  0   0   0   0   0   0   0 179   0   0]\n",
      " [  0   3   4   1   0   0   0   1 165   0]\n",
      " [  0  20   0 145   0   2   0  11   2   0]]\n"
     ]
    }
   ],
   "source": [
    "from sklearn.metrics import confusion_matrix, accuracy_score\n",
    "cm = confusion_matrix(targets, new)\n",
    "print(cm)"
   ]
  },
  {
   "cell_type": "code",
   "execution_count": 22,
   "id": "9c3b1f08",
   "metadata": {},
   "outputs": [
    {
     "name": "stdout",
     "output_type": "stream",
     "text": [
      "Accuracy:  83.21395046705491 %\n"
     ]
    }
   ],
   "source": [
    "accuracy = metrics.fowlkes_mallows_score(targets, new)\n",
    "print('Accuracy: ',accuracy*100, '%')"
   ]
  }
 ],
 "metadata": {
  "kernelspec": {
   "display_name": "Python 3",
   "language": "python",
   "name": "python3"
  },
  "language_info": {
   "codemirror_mode": {
    "name": "ipython",
    "version": 3
   },
   "file_extension": ".py",
   "mimetype": "text/x-python",
   "name": "python",
   "nbconvert_exporter": "python",
   "pygments_lexer": "ipython3",
   "version": "3.8.8"
  }
 },
 "nbformat": 4,
 "nbformat_minor": 5
}
